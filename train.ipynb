{
 "cells": [
  {
   "cell_type": "code",
   "execution_count": null,
   "metadata": {},
   "outputs": [],
   "source": [
    "import torch\n",
    "import torch.optim as optim\n",
    "from unet_layers import *\n",
    "import h5py\n",
    "from torch.utils.data import DataLoader\n",
    "from torchvision import transforms as T\n",
    "from tensorboardX import SummaryWriter\n",
    "import os\n",
    "import numpy as np\n",
    "import time\n",
    "import matplotlib.pyplot as plt\n",
    "from data_utils import FSdataset,my_RandomCrop,my_normalize\n",
    "from visualize import show_FS,show_EPI_xu,show_EPI_yv,show_SAI\n",
    "os.environ[\"CUDA_DEVICE_ORDER\"]=\"PCI_BUS_ID\"\n",
    "os.environ['CUDA_VISIBLE_DEVICES']=\"0\"\n",
    "np.random.seed(100);\n",
    "torch.manual_seed(100);\n",
    "torch.backends.cudnn.deterministic = True"
   ]
  },
  {
   "cell_type": "code",
   "execution_count": null,
   "metadata": {},
   "outputs": [],
   "source": [
    "bs_train = 4\n",
    "bs_val = 10\n",
    "lr = 1e-3\n",
    "\n",
    "nF=7\n",
    "lfsize = [372, 540, 8, 8] #H,W,v,u\n",
    "#dimensions of Lytro light fields, H,W,nv,nu. \n",
    "#Note original Lytro LF has dimension 376X541 X 14 X 14, the paper takes only first 372/540 spatial pixel and central 8 by 8 SAI\n",
    "#which is being followed here\n",
    "\n",
    "transform_train = T.Compose([my_normalize(255),my_RandomCrop(256)])\n",
    "transform_val = T.Compose([my_normalize(255)])\n",
    "\n",
    "ds_train = FSdataset(lfsize = lfsize, FSdata_path='FS_dataset/FS_dmin_-1_dmax_0.3_nF_7.h5',LFdata_folder='Flowers_8bit/',trainorval='train',transform = transform_train)\n",
    "ds_val =  FSdataset(lfsize = lfsize, FSdata_path='FS_dataset/FS_dmin_-1_dmax_0.3_nF_7.h5',LFdata_folder='Flowers_8bit/',trainorval='val',transform = transform_val)\n",
    "writer = SummaryWriter('logs/FS_dmin_-1_dmax_0.3_nF_7/unet_FS2LF_v3/lr_1e-3_bs_train_4_bs_val_10_pin_memory')\n",
    "#writer = SummaryWriter('logs/test')\n",
    "\n",
    "train_loader=DataLoader(ds_train, batch_size=bs_train,shuffle=True, num_workers = 1,pin_memory = True)\n",
    "val_loader=DataLoader(ds_val, batch_size=bs_val,shuffle=False, num_workers = 0,pin_memory = True)"
   ]
  },
  {
   "cell_type": "code",
   "execution_count": null,
   "metadata": {},
   "outputs": [],
   "source": [
    "\n",
    "device = torch.device(\"cuda\")\n",
    "net = unet_FS2LF_v3(nF=nF,nu=lfsize[3],nv=lfsize[2])\n",
    "net.to(device)\n",
    "criterion = nn.L1Loss()\n",
    "#criterion = nn.MSELoss()\n",
    "optimizer=optim.Adam(net.parameters(),lr=lr)"
   ]
  },
  {
   "cell_type": "code",
   "execution_count": null,
   "metadata": {},
   "outputs": [],
   "source": [
    "t1 =time.time()\n",
    "step=0\n",
    "for epoch in range(50):\n",
    "    print(\"Current epoch number%d\" %epoch) \n",
    "    for idx,data in enumerate(train_loader,0):\n",
    "        net.train()\n",
    "        FS,LF=data['FS'].to(device),data['LF'].to(device) # 2019 4 16: check loaded FS, LF dimension and make sure they are compatible with network struture here\n",
    "        reconLF=net(FS)\n",
    "        loss=criterion(reconLF,LF)\n",
    "        print('Loss is %3f' %(loss.item()))\n",
    "        optimizer.zero_grad()\n",
    "        loss.backward()\n",
    "        optimizer.step() \n",
    "        \n",
    "        if step % 10 == 0:\n",
    "            writer.add_scalar('loss', loss.item(), step)    \n",
    "        if step % 100 == 0:\n",
    "            print('Train visualization')\n",
    "            show_SAI(reconLF.detach().cpu(),[(0,0),(5,5)])\n",
    "            show_EPI_xu(reconLF.detach().cpu(),[(100,0),(200,3)])\n",
    "        step = step + 1 \n",
    "        print('step %d, time %f' %(step,time.time()-t1))\n",
    "    if np.mod(epoch,1)==0: \n",
    "        net.eval()\n",
    "        data=next(iter(val_loader))\n",
    "        FS,LF=data['FS'].to(device),data['LF'].to(device) \n",
    "\n",
    "        with torch.no_grad():\n",
    "            reconLF=net(FS)\n",
    "            loss=criterion(reconLF,LF)\n",
    "        print('Validation visualization')\n",
    "        show_SAI(reconLF.cpu(),[(0,0),(5,5)])\n",
    "        show_EPI_xu(reconLF.cpu(),[(100,0),(200,3)])\n",
    "        print('Val Loss is %3f' %(loss.item()))#for multiple test sample\n",
    "        \n",
    "        writer.add_scalar('Val loss', loss.item(), step)\n",
    "        #Add some visulization here\n",
    "        \n"
   ]
  },
  {
   "cell_type": "code",
   "execution_count": null,
   "metadata": {},
   "outputs": [],
   "source": []
  }
 ],
 "metadata": {
  "kernelspec": {
   "display_name": "Python 3",
   "language": "python",
   "name": "python3"
  },
  "language_info": {
   "codemirror_mode": {
    "name": "ipython",
    "version": 3
   },
   "file_extension": ".py",
   "mimetype": "text/x-python",
   "name": "python",
   "nbconvert_exporter": "python",
   "pygments_lexer": "ipython3",
   "version": "3.6.6"
  }
 },
 "nbformat": 4,
 "nbformat_minor": 2
}
