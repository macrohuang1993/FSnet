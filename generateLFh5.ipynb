{
 "cells": [
  {
   "cell_type": "code",
   "execution_count": 3,
   "metadata": {},
   "outputs": [],
   "source": [
    "from PIL import Image \n",
    "import numpy as np\n",
    "import h5py \n",
    "import os\n"
   ]
  },
  {
   "cell_type": "code",
   "execution_count": null,
   "metadata": {},
   "outputs": [],
   "source": [
    "def generate_h5py_LF(folder_path):\n",
    "    i= 0\n",
    "    f = h5py.File('LF_chunked.h5', 'w')\n",
    "    LF_filenames = [f for f in os.listdir(folder_path) if not f.startswith('.')]\n",
    "    for LF_fname in LF_filenames:\n",
    "        \n",
    "        img = Image.open(os.path.join(folder_path,LF_fname))\n",
    "        LF = np.asarray(img)\n",
    "        f.create_dataset(LF_fname, data=LF,chunks=True)\n",
    "        i +=1\n",
    "        print(i)\n",
    "    f.close()\n",
    "generate_h5py_LF('Flowers_8bit/')"
   ]
  },
  {
   "cell_type": "code",
   "execution_count": 21,
   "metadata": {},
   "outputs": [
    {
     "name": "stdout",
     "output_type": "stream",
     "text": [
      "0.0027513504028320312\n"
     ]
    }
   ],
   "source": [
    "from data_utils import read_lytroLF_as5D\n",
    "import time\n",
    "t1 =time.time()\n",
    "#read_lytroLF_as5D('/home/zyhuang/IMG_8214_eslf.png',[372, 540, 8, 8])\n",
    "img = Image.open('/home/zyhuang/download.jpeg')\n",
    "#Following step is bottlenecking the training. The image.read is slow \n",
    "LF = np.asarray(img)\n",
    "t2 = time.time()\n",
    "print(t2-t1)"
   ]
  },
  {
   "cell_type": "code",
   "execution_count": null,
   "metadata": {},
   "outputs": [],
   "source": []
  },
  {
   "cell_type": "code",
   "execution_count": null,
   "metadata": {},
   "outputs": [],
   "source": []
  }
 ],
 "metadata": {
  "kernelspec": {
   "display_name": "Python 3",
   "language": "python",
   "name": "python3"
  },
  "language_info": {
   "codemirror_mode": {
    "name": "ipython",
    "version": 3
   },
   "file_extension": ".py",
   "mimetype": "text/x-python",
   "name": "python",
   "nbconvert_exporter": "python",
   "pygments_lexer": "ipython3",
   "version": "3.6.6"
  }
 },
 "nbformat": 4,
 "nbformat_minor": 2
}
