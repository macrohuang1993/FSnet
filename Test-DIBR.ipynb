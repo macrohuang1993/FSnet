{
 "cells": [
  {
   "cell_type": "markdown",
   "metadata": {},
   "source": [
    "# Model loading and LFrecon part"
   ]
  },
  {
   "cell_type": "code",
   "execution_count": 1,
   "metadata": {},
   "outputs": [],
   "source": [
    "import torch\n",
    "import torch.nn as nn\n",
    "import torch.optim as optim\n",
    "from unet_layers import *\n",
    "import h5py\n",
    "from torch.utils.data import DataLoader\n",
    "from torchvision import transforms as T\n",
    "from tensorboardX import SummaryWriter\n",
    "import os\n",
    "import numpy as np\n",
    "import time\n",
    "import matplotlib.pyplot as plt\n",
    "from data_utils import FSdataset_withSAI,my_triplet_RandomCrop,my_triplet_normalize, my_triplet_CenterCrop\n",
    "from visualize import show_FS,show_EPI_xu,show_EPI_yv,show_SAI\n",
    "from torch.optim.lr_scheduler import MultiStepLR\n",
    "from DIBR_modules import depth_rendering_pt,transform_ray_depths_pt,depth_consistency_loss_pt,image_derivs_pt,tv_loss_pt\n",
    "os.environ[\"CUDA_DEVICE_ORDER\"]=\"PCI_BUS_ID\"\n",
    "os.environ['CUDA_VISIBLE_DEVICES']=\"0\"\n",
    "np.random.seed(100);\n",
    "torch.manual_seed(100);\n",
    "torch.backends.cudnn.deterministic = True\n",
    "torch.backends.cudnn.benchmark = False #Setting to True may leads to faster but undeterminsitc result."
   ]
  },
  {
   "cell_type": "code",
   "execution_count": 2,
   "metadata": {},
   "outputs": [],
   "source": [
    "bs_train = 1\n",
    "bs_val = 1\n",
    "lr = 3e-4\n",
    "\n",
    "nF=7\n",
    "lfsize = [372, 540, 8, 8] #H,W,v,u\n",
    "disp_mult = 2\n",
    "SAI_iv = 3 #index of the SAI to be selected as All in focus image, countin from 0 \n",
    "SAI_iu = 3 #index of the SAI to be selected as All in focus image, countin from 0 \n",
    "lam_tv = 0.01\n",
    "lam_dc = 0.005\n",
    "#dimensions of Lytro light fields, H,W,nv,nu. \n",
    "#Note original Lytro LF has dimension 376X541 X 14 X 14, the paper takes only first 372/540 spatial pixel and central 8 by 8 SAI\n",
    "#which is being followed here\n",
    "\n",
    "transform_train = T.Compose([my_triplet_normalize(255),my_triplet_RandomCrop(256)])\n",
    "transform_val = T.Compose([my_triplet_normalize(255)]) #Note the center region is cropped out for validation, due to memory constraint\n",
    "\n",
    "ds_train = FSdataset_withSAI(lfsize = lfsize, FSdata_path='/home/zyhuang/EVO970Plus/FS_dataset/FS_dmin_-1_dmax_0.3_nF_7.h5',LFdata_folder='/home/zyhuang/EVO970Plus/Flowers_8bit/',\\\n",
    "                             SAIdata_folder = '/home/zyhuang/EVO970Plus/SAI_dataset/FS_dmin_-1_dmax_0.3_nF_7_unet_FS2SAI_v3_tanh_lr_3e-4_bs_train_2_bs_val_5_full_val_loss.h5',\\\n",
    "                             trainorval='train',transform = transform_train)\n",
    "ds_val =  FSdataset_withSAI(lfsize = lfsize, FSdata_path='/home/zyhuang/EVO970Plus/FS_dataset/FS_dmin_-1_dmax_0.3_nF_7.h5',LFdata_folder='/home/zyhuang/EVO970Plus/Flowers_8bit/',\\\n",
    "                            SAIdata_folder = '/home/zyhuang/EVO970Plus/SAI_dataset/FS_dmin_-1_dmax_0.3_nF_7_unet_FS2SAI_v3_tanh_lr_3e-4_bs_train_2_bs_val_5_full_val_loss.h5',\\\n",
    "                            trainorval='val',transform = transform_val)\n",
    "log_path = 'logs/DIBR/testtime2'\n",
    "writer = SummaryWriter(log_path)\n",
    "\n",
    "train_loader=DataLoader(ds_train, batch_size=bs_train,shuffle=True, num_workers = 3,pin_memory = True)\n",
    "val_loader=DataLoader(ds_val, batch_size=bs_val,shuffle=False, num_workers = 3,pin_memory = True)"
   ]
  },
  {
   "cell_type": "code",
   "execution_count": 3,
   "metadata": {},
   "outputs": [],
   "source": [
    "model_folder = 'logs/DIBR/FS_dmin_-1_dmax_0.3_nF_7/concat_SAI_True_disp_mult_2/lr_3e-4_lam_tv_1e-2_lam_dc_5e-3_bs_train_1_crop_bs_val_1_crop_256'\n",
    "device = torch.device(\"cuda\")\n",
    "depth_Net = depth_network_pt(nF,lfsize,disp_mult,concat_SAI = True)\n",
    "refine_Net = refineNet()\n",
    "depth_Net.to(device)\n",
    "refine_Net.to(device)\n",
    "depth_Net.load_state_dict(torch.load(model_folder + '/model_depth_Net.pth'))\n",
    "refine_Net.load_state_dict(torch.load(model_folder + '/model_refine_Net.pth'))\n",
    "#depth_Net.load_state_dict(torch.load('logs/DIBR/FS_dmin_-1_dmax_0.3_nF_7/concat_SAI_True_disp_mult_2/lr_3e-4_lam_tv_1e-2_lam_dc_5e-3_bs_train_1_crop_bs_val_1_crop_256' + '/model_depth_Net.pth'))\n",
    "criterion = nn.L1Loss()\n",
    "\n",
    "\n",
    "\n",
    "\n"
   ]
  },
  {
   "cell_type": "code",
   "execution_count": 4,
   "metadata": {},
   "outputs": [
    {
     "name": "stdout",
     "output_type": "stream",
     "text": [
      "Val visualization\n",
      "Minibatch val_loss is:0.0179\n",
      "Minibatch val_output_loss is:0.0075\n",
      "Val visualization\n",
      "Minibatch val_loss is:0.0274\n",
      "Minibatch val_output_loss is:0.0113\n",
      "Val visualization\n",
      "Minibatch val_loss is:0.0142\n",
      "Minibatch val_output_loss is:0.0060\n",
      "Val visualization\n",
      "Minibatch val_loss is:0.0230\n",
      "Minibatch val_output_loss is:0.0097\n",
      "Val visualization\n",
      "Minibatch val_loss is:0.0260\n",
      "Minibatch val_output_loss is:0.0102\n",
      "Val visualization\n",
      "Minibatch val_loss is:0.0235\n",
      "Minibatch val_output_loss is:0.0094\n",
      "Val visualization\n",
      "Minibatch val_loss is:0.0450\n",
      "Minibatch val_output_loss is:0.0180\n",
      "Val visualization\n",
      "Minibatch val_loss is:0.0224\n",
      "Minibatch val_output_loss is:0.0095\n",
      "Val visualization\n",
      "Minibatch val_loss is:0.0355\n",
      "Minibatch val_output_loss is:0.0142\n",
      "Val visualization\n",
      "Minibatch val_loss is:0.0264\n",
      "Minibatch val_output_loss is:0.0101\n",
      "Full val_loss is:0.0026\n",
      "Full output_loss is:0.0011\n"
     ]
    }
   ],
   "source": [
    "#Calculate Full loss across entire val dataset every epoch\n",
    "Full_loss = 0\n",
    "Full_output_loss = 0\n",
    "torch.cuda.empty_cache()\n",
    "for idx,data in enumerate(val_loader,0):\n",
    "    depth_Net.eval()\n",
    "    refine_Net.eval()\n",
    "    FS,LF, est_SAI =data['FS'].to(device),data['LF'].to(device), data['SAI'].to(device)\n",
    "    with torch.no_grad():\n",
    "        ray_depths = depth_Net(FS,est_SAI) # B,v,u,H,W\n",
    "        lf_shear_r = depth_rendering_pt(est_SAI[:,0,:,:],ray_depths.permute(0,3,4,1,2),lfsize,SAI_iu,SAI_iv) # B,H,W,v,u\n",
    "        lf_shear_g = depth_rendering_pt(est_SAI[:,1,:,:],ray_depths.permute(0,3,4,1,2),lfsize,SAI_iu,SAI_iv)\n",
    "        lf_shear_b = depth_rendering_pt(est_SAI[:,2,:,:],ray_depths.permute(0,3,4,1,2),lfsize,SAI_iu,SAI_iv)\n",
    "        lf_shear = torch.cat([lf_shear_r.unsqueeze(5),lf_shear_g.unsqueeze(5),lf_shear_b.unsqueeze(5)],dim = 5).permute(0,5,3,4,1,2) #B,C,v,u,H,W\n",
    "        lf_denoised = refine_Net(lf_shear,ray_depths) #B,C,v,u,H,W\n",
    "\n",
    "        shear_loss = criterion(lf_shear,LF)\n",
    "        tv_loss = lam_tv * tv_loss_pt(ray_depths.permute(0,3,4,1,2))\n",
    "        depth_consistency_loss = lam_dc * depth_consistency_loss_pt(ray_depths.permute(0,3,4,1,2),lfsize,SAI_iu,SAI_iv)\n",
    "        output_loss = criterion(lf_denoised,LF)\n",
    "        loss = shear_loss + output_loss + tv_loss + depth_consistency_loss \n",
    "\n",
    "        print('Val visualization')\n",
    "        est_SAI_grid = show_SAI(est_SAI.detach().cpu(), isshow = False) \n",
    "        FS_grid = show_FS(FS, isshow = False)\n",
    "        LambertLF_SAI_grid = show_SAI(lf_shear.detach().cpu(),[(0,0),(5,5)], isshow = False)\n",
    "        LambertLF_EPI_xu_grid = show_EPI_xu(lf_shear.detach().cpu(),[(100,0),(200,3)],isshow = False)\n",
    "        reconLF_SAI_grid = show_SAI(lf_denoised.detach().cpu(),[(0,0),(5,5)], isshow = False)\n",
    "        reconLF_EPI_xu_grid = show_EPI_xu(lf_denoised.detach().cpu(),[(100,0),(200,3)],isshow = False)\n",
    "        SAI_grid = show_SAI(LF.detach().cpu(),[(0,0),(5,5)], isshow = False) \n",
    "        EPI_xu_grid = show_EPI_xu(LF.detach().cpu(),[(100,0),(200,3)], isshow = False)  \n",
    "\n",
    "        \n",
    "        B,v,u,H,W = ray_depths.shape\n",
    "        writer.add_image('Val ray_depths', ray_depths.permute(0,1,3,2,4).reshape(B*v*H,u*W), idx)\n",
    "        writer.add_image('Val est SAI', est_SAI_grid, idx)\n",
    "        writer.add_image('Val FS', FS_grid, idx)\n",
    "        writer.add_image('Val LambertLF SAI [0,0], [5,5]', LambertLF_SAI_grid, idx)\n",
    "        writer.add_image('Val LambertLF EPI [100,0], [200,3]', LambertLF_EPI_xu_grid, idx)\n",
    "        writer.add_image('Val reconLF SAI [0,0], [5,5]', reconLF_SAI_grid, idx)\n",
    "        writer.add_image('Val reconLF EPI [100,0], [200,3]', reconLF_EPI_xu_grid, idx)\n",
    "        writer.add_image('Val trueLF SAI [0,0], [5,5]', SAI_grid, idx)\n",
    "        writer.add_image('Val trueLF EPI [100,0], [200,3]', EPI_xu_grid, idx) \n",
    "        \n",
    "    Full_loss += loss.item()\n",
    "    Full_output_loss += output_loss.item()\n",
    "    print('Minibatch val_loss is:%.4f' %(loss.item()))\n",
    "    print('Minibatch val_output_loss is:%.4f' %(output_loss.item()))\n",
    "    if idx ==9:\n",
    "        break\n",
    "\n",
    "\n",
    "Full_loss = Full_loss/len(val_loader) # this assumes each batch has same size\n",
    "Full_output_loss = Full_output_loss/len(val_loader)\n",
    "print('Full val_loss is:%.4f' %(Full_loss))\n",
    "print('Full output_loss is:%.4f' %(Full_output_loss))  \n",
    "        \n"
   ]
  },
  {
   "cell_type": "markdown",
   "metadata": {},
   "source": [
    "# Experimental Coding part"
   ]
  },
  {
   "cell_type": "code",
   "execution_count": null,
   "metadata": {},
   "outputs": [],
   "source": [
    "%matplotlib inline\n",
    "reconLF_SAI_grid = show_SAI(lf_denoised.detach().cpu(),[(0,0),(5,5)], isshow = True)"
   ]
  },
  {
   "cell_type": "code",
   "execution_count": 5,
   "metadata": {},
   "outputs": [
    {
     "name": "stdout",
     "output_type": "stream",
     "text": [
      "Using matplotlib backend: Qt5Agg\n"
     ]
    }
   ],
   "source": [
    "%matplotlib auto\n",
    "plt.imshow(ray_depths.permute(0,1,3,2,4).reshape(B*v*H,u*W).cpu().numpy())\n",
    "plt.show()"
   ]
  },
  {
   "cell_type": "code",
   "execution_count": 12,
   "metadata": {},
   "outputs": [
    {
     "data": {
      "text/plain": [
       "tensor(0.0005, device='cuda:0')"
      ]
     },
     "execution_count": 12,
     "metadata": {},
     "output_type": "execute_result"
    }
   ],
   "source": [
    "lam_dc * depth_consistency_loss_pt(ray_depths.permute(0,3,4,1,2),lfsize)"
   ]
  },
  {
   "cell_type": "code",
   "execution_count": 13,
   "metadata": {},
   "outputs": [
    {
     "data": {
      "text/plain": [
       "tensor(3.8903e-05, device='cuda:0')"
      ]
     },
     "execution_count": 13,
     "metadata": {},
     "output_type": "execute_result"
    }
   ],
   "source": [
    "lam_dc * depth_consistency_loss_pt(ray_depth2.permute(0,3,4,1,2),lfsize)"
   ]
  },
  {
   "cell_type": "code",
   "execution_count": 7,
   "metadata": {},
   "outputs": [],
   "source": [
    "ray_depth2 = ray_depths.clone()\n",
    "ray_depth2[:,:,:,:,:] = ray_depths[0,3,3,:,:]"
   ]
  },
  {
   "cell_type": "code",
   "execution_count": 9,
   "metadata": {},
   "outputs": [
    {
     "data": {
      "image/png": "[encoded data removed]",
      "text/plain": [
       "<Figure size 432x288 with 1 Axes>"
      ]
     },
     "metadata": {
      "needs_background": "light"
     },
     "output_type": "display_data"
    }
   ],
   "source": [
    "%matplotlib inline\n",
    "plt.figure()\n",
    "plt.imshow(ray_depth2.permute(0,1,3,2,4).reshape(B*v*H,u*W).cpu().numpy())\n",
    "plt.show()"
   ]
  },
  {
   "cell_type": "code",
   "execution_count": null,
   "metadata": {},
   "outputs": [],
   "source": [
    "def my_psnr(I,Iref,peakval):\n",
    "    mse = ((I-Iref)**2).mean()\n",
    "    return 10*np.log10(peakval**2/mse)"
   ]
  },
  {
   "cell_type": "code",
   "execution_count": null,
   "metadata": {},
   "outputs": [],
   "source": [
    "my_psnr(reconLF[4].cpu(),LF[4].cpu(),1)"
   ]
  },
  {
   "cell_type": "code",
   "execution_count": null,
   "metadata": {},
   "outputs": [],
   "source": [
    "my_psnr(reconLF[1][:,:-1,:-1].cpu(),LF[1][:,:-1,:-1].cpu(),1)"
   ]
  },
  {
   "cell_type": "code",
   "execution_count": null,
   "metadata": {},
   "outputs": [],
   "source": [
    "reconLF.shape"
   ]
  },
  {
   "cell_type": "code",
   "execution_count": null,
   "metadata": {},
   "outputs": [],
   "source": [
    "(reconLF-LF).mean()"
   ]
  },
  {
   "cell_type": "code",
   "execution_count": null,
   "metadata": {},
   "outputs": [],
   "source": []
  },
  {
   "cell_type": "code",
   "execution_count": null,
   "metadata": {},
   "outputs": [],
   "source": [
    "show_FS(FS[[0]].detach().cpu(), isshow = True)"
   ]
  },
  {
   "cell_type": "code",
   "execution_count": null,
   "metadata": {},
   "outputs": [],
   "source": [
    "plt.figure()\n",
    "reconSAI_grid = show_SAI(reconLF.detach().cpu(),[(0,0),(5,5)], isshow = True)\n",
    "#reconEPI_xu_grid = show_EPI_xu(reconLF.detach().cpu(),[(100,0),(200,3)],isshow = True)"
   ]
  },
  {
   "cell_type": "code",
   "execution_count": null,
   "metadata": {},
   "outputs": [],
   "source": [
    "inds = []\n",
    "for i in range(8):\n",
    "    for j in range(8):\n",
    "        inds.append((i,j))"
   ]
  },
  {
   "cell_type": "code",
   "execution_count": null,
   "metadata": {},
   "outputs": [],
   "source": [
    "show_FS()"
   ]
  },
  {
   "cell_type": "code",
   "execution_count": null,
   "metadata": {},
   "outputs": [],
   "source": [
    "plt.figure()\n",
    "reconSAI_grid = show_SAI(reconLF[[1]].detach().cpu(),[(0,0),(2,2),(3,3),(4,4),(5,5)], isshow = True)\n",
    "#reconEPI_xu_grid = show_EPI_xu(reconLF.detach().cpu(),[(100,0),(200,3)],isshow = True)"
   ]
  },
  {
   "cell_type": "code",
   "execution_count": null,
   "metadata": {},
   "outputs": [],
   "source": [
    "((LF- reconLF).abs().mean()).item()"
   ]
  },
  {
   "cell_type": "code",
   "execution_count": null,
   "metadata": {},
   "outputs": [],
   "source": [
    "reconSAI_grid = show_SAI(reconLF.detach().cpu(),[(0,0),(5,5)], isshow = True)"
   ]
  },
  {
   "cell_type": "code",
   "execution_count": null,
   "metadata": {},
   "outputs": [],
   "source": [
    "reconLF[1,0,0,0]"
   ]
  },
  {
   "cell_type": "code",
   "execution_count": null,
   "metadata": {},
   "outputs": [],
   "source": [
    "LF[1,0,4,4]"
   ]
  },
  {
   "cell_type": "code",
   "execution_count": null,
   "metadata": {},
   "outputs": [],
   "source": [
    "(LF[1,0,4,4]-reconLF[0,0,0,0]).abs().mean()"
   ]
  },
  {
   "cell_type": "code",
   "execution_count": null,
   "metadata": {},
   "outputs": [],
   "source": [
    "ht,bins = np.histogram((reconLF[4]-LF[4]).abs().cpu(),bins=1000)"
   ]
  },
  {
   "cell_type": "code",
   "execution_count": null,
   "metadata": {},
   "outputs": [],
   "source": [
    "plt.plot(bins[:30],ht[:30])"
   ]
  },
  {
   "cell_type": "code",
   "execution_count": null,
   "metadata": {},
   "outputs": [],
   "source": [
    "bins"
   ]
  },
  {
   "cell_type": "code",
   "execution_count": null,
   "metadata": {},
   "outputs": [],
   "source": [
    "list(net.children())[0].children("
   ]
  },
  {
   "cell_type": "code",
   "execution_count": null,
   "metadata": {},
   "outputs": [],
   "source": [
    "from tensorboardX import SummaryWriter\n",
    "log_path = 'logs/valtest'\n",
    "#writer = SummaryWriter('logs/no_crop/FS_dmin_-1_dmax_0.3_nF_7/unet_FS2LF_v2/lr_1e-3_bs_train_4_bs_val_10_pin_memory')\n",
    "writer = SummaryWriter(log_path)\n",
    "writer.add_image('val reconLF SAI [0,0], [5,5]', reconSAI_grid, 0)"
   ]
  },
  {
   "cell_type": "code",
   "execution_count": null,
   "metadata": {},
   "outputs": [],
   "source": [
    "reconSAI_grid[reconSAI_grid < 0] = 1"
   ]
  },
  {
   "cell_type": "code",
   "execution_count": null,
   "metadata": {},
   "outputs": [],
   "source": [
    "plt.imshow(reconSAI_grid.permute([1,2,0]))\n",
    "plt.show()"
   ]
  },
  {
   "cell_type": "code",
   "execution_count": null,
   "metadata": {},
   "outputs": [],
   "source": [
    "\n",
    "l = nn.Linear(2, 2)\n",
    "net2 = nn.Sequential(l, l)\n",
    "for idx, m in enumerate(net2.named_children()):\n",
    "        print(idx, '->', m)"
   ]
  },
  {
   "cell_type": "code",
   "execution_count": null,
   "metadata": {},
   "outputs": [],
   "source": [
    "net.modules"
   ]
  },
  {
   "cell_type": "code",
   "execution_count": null,
   "metadata": {},
   "outputs": [],
   "source": [
    "import scipy.io as sio\n",
    "sio.savemat('val_LF.mat',{'LF':LF.cpu().numpy()})"
   ]
  },
  {
   "cell_type": "code",
   "execution_count": null,
   "metadata": {},
   "outputs": [],
   "source": [
    "from skimage.measure import compare_ssim as ssim"
   ]
  },
  {
   "cell_type": "code",
   "execution_count": null,
   "metadata": {},
   "outputs": [],
   "source": [
    "ssim(LF[0].cpu().numpy().transpose([1,2,3,4,0]),reconLF[0].cpu().numpy().transpose([1,2,3,4,0]),multichannel=True)"
   ]
  },
  {
   "cell_type": "code",
   "execution_count": null,
   "metadata": {},
   "outputs": [],
   "source": [
    "from scipy.io import loadmat"
   ]
  },
  {
   "cell_type": "code",
   "execution_count": null,
   "metadata": {},
   "outputs": [],
   "source": [
    "result = loadmat('result.mat')"
   ]
  },
  {
   "cell_type": "code",
   "execution_count": null,
   "metadata": {},
   "outputs": [],
   "source": [
    "ssim(result['trueLF_rgb'],result['reconLF_rgb'],multichannel=True)"
   ]
  },
  {
   "cell_type": "code",
   "execution_count": null,
   "metadata": {},
   "outputs": [],
   "source": [
    "result.keys()"
   ]
  },
  {
   "cell_type": "code",
   "execution_count": null,
   "metadata": {},
   "outputs": [],
   "source": []
  }
 ],
 "metadata": {
  "kernelspec": {
   "display_name": "Python 3",
   "language": "python",
   "name": "python3"
  },
  "language_info": {
   "codemirror_mode": {
    "name": "ipython",
    "version": 3
   },
   "file_extension": ".py",
   "mimetype": "text/x-python",
   "name": "python",
   "nbconvert_exporter": "python",
   "pygments_lexer": "ipython3",
   "version": "3.6.6"
  }
 },
 "nbformat": 4,
 "nbformat_minor": 2
}
