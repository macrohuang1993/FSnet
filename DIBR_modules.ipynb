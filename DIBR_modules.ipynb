{
 "cells": [
  {
   "cell_type": "code",
   "execution_count": 1,
   "metadata": {},
   "outputs": [
    {
     "ename": "NameError",
     "evalue": "name 'tf' is not defined",
     "output_type": "error",
     "traceback": [
      "\u001b[0;31m---------------------------------------------------------------------------\u001b[0m",
      "\u001b[0;31mNameError\u001b[0m                                 Traceback (most recent call last)",
      "\u001b[0;32m<ipython-input-1-873c4e7d46e7>\u001b[0m in \u001b[0;36m<module>\u001b[0;34m()\u001b[0m\n\u001b[0;32m----> 1\u001b[0;31m \u001b[0mconfig\u001b[0m \u001b[0;34m=\u001b[0m \u001b[0mtf\u001b[0m\u001b[0;34m.\u001b[0m\u001b[0mConfigProto\u001b[0m\u001b[0;34m(\u001b[0m\u001b[0;34m)\u001b[0m\u001b[0;34m\u001b[0m\u001b[0m\n\u001b[0m\u001b[1;32m      2\u001b[0m \u001b[0mconfig\u001b[0m\u001b[0;34m.\u001b[0m\u001b[0mgpu_options\u001b[0m\u001b[0;34m.\u001b[0m\u001b[0mper_process_gpu_memory_fraction\u001b[0m \u001b[0;34m=\u001b[0m \u001b[0;36m0.4\u001b[0m\u001b[0;34m\u001b[0m\u001b[0m\n\u001b[1;32m      3\u001b[0m \u001b[0;34m\u001b[0m\u001b[0m\n\u001b[1;32m      4\u001b[0m \u001b[0;32mwith\u001b[0m \u001b[0mtf\u001b[0m\u001b[0;34m.\u001b[0m\u001b[0mSession\u001b[0m\u001b[0;34m(\u001b[0m\u001b[0mconfig\u001b[0m\u001b[0;34m=\u001b[0m\u001b[0mconfig\u001b[0m\u001b[0;34m)\u001b[0m \u001b[0;32mas\u001b[0m \u001b[0msess\u001b[0m\u001b[0;34m:\u001b[0m\u001b[0;34m\u001b[0m\u001b[0m\n\u001b[1;32m      5\u001b[0m     \u001b[0mresult\u001b[0m \u001b[0;34m=\u001b[0m \u001b[0msess\u001b[0m\u001b[0;34m.\u001b[0m\u001b[0mrun\u001b[0m\u001b[0;34m(\u001b[0m\u001b[0;34m[\u001b[0m\u001b[0mcentral\u001b[0m\u001b[0;34m,\u001b[0m\u001b[0minterp_pts_1\u001b[0m\u001b[0;34m,\u001b[0m\u001b[0mlf\u001b[0m\u001b[0;34m]\u001b[0m\u001b[0;34m)\u001b[0m\u001b[0;34m\u001b[0m\u001b[0m\n",
      "\u001b[0;31mNameError\u001b[0m: name 'tf' is not defined"
     ]
    }
   ],
   "source": [
    "config = tf.ConfigProto()\n",
    "config.gpu_options.per_process_gpu_memory_fraction = 0.4\n",
    "\n",
    "with tf.Session(config=config) as sess:\n",
    "    result = sess.run([central,interp_pts_1,lf])\n",
    "    \n",
    "    #print(central.eval().shape)\n",
    "    #print(interp_pts_1.eval().shape)\n",
    "    #print(lf_1.eval().shape)\n",
    "\n",
    "    "
   ]
  },
  {
   "cell_type": "code",
   "execution_count": null,
   "metadata": {},
   "outputs": [],
   "source": [
    "import torch\n",
    "lf_pytorch=depth_rendering(torch.from_numpy(central_np).to(torch.float),torch.from_numpy(ray_depths_np).to(torch.float),lfsize)"
   ]
  },
  {
   "cell_type": "code",
   "execution_count": null,
   "metadata": {},
   "outputs": [],
   "source": [
    "def depth_rendering_pt(central, ray_depths, lfsize):\n",
    "    \"\"\"\n",
    "    Render lambertian lightfield by backward warping using central SAI and depth field\n",
    "    \n",
    "    Input: central:torch tensor of single color channel central SAI (B,H,W)\n",
    "        ray_depths: torch tensor of  depth field (B,H,W,nv,nu)\n",
    "        lfsize:tuple with elements (H,W,nv,nu)\n",
    "    Output: torch tensor of rendered light field (B,H,W,nv,nu) \n",
    "    \n",
    "    Passed testing against original tensorflow version.\n",
    "    \"\"\"\n",
    "    b_sz = central.shape[0]\n",
    "    y_sz = central.shape[1]\n",
    "    x_sz = central.shape[2]\n",
    "    v_sz = lfsize[2]\n",
    "    u_sz = lfsize[3]\n",
    "\n",
    "    central = torch.unsqueeze(torch.unsqueeze(central,3),4)\n",
    "\n",
    "    #create and reparameterize light field grid\n",
    "    b_vals = torch.from_numpy(np.arange(b_sz).astype(np.float32))\n",
    "    v_vals = torch.from_numpy(np.arange(v_sz).astype(np.float32) - float(v_sz)/2.0)\n",
    "    u_vals = torch.from_numpy(np.arange(u_sz).astype(np.float32) - float(u_sz)/2.0)\n",
    "    y_vals = torch.from_numpy(np.arange(y_sz).astype(np.float32))\n",
    "    x_vals = torch.from_numpy(np.arange(x_sz).astype(np.float32))\n",
    "\n",
    "    #b_vals = tf.to_float(tf.range(b_sz))\n",
    "    #v_vals = tf.to_float(tf.range(v_sz)) - tf.to_float(v_sz)/2.0\n",
    "    #u_vals = tf.to_float(tf.range(u_sz)) - tf.to_float(u_sz)/2.0\n",
    "    #y_vals = tf.to_float(tf.range(y_sz))\n",
    "    #x_vals = tf.to_float(tf.range(x_sz))\n",
    "\n",
    "    b, y, x, v, u = torch.meshgrid(b_vals, y_vals, x_vals, v_vals, u_vals)\n",
    "    #b, y, x, v, u = tf.meshgrid(b_vals, y_vals, x_vals, v_vals, u_vals, indexing='ij')\n",
    "\n",
    "    #warp coordinates by ray depths\n",
    "    y_t = y + v * ray_depths\n",
    "    x_t = x + u * ray_depths\n",
    "\n",
    "    v_r = torch.zeros_like(b)\n",
    "    u_r = torch.zeros_like(b)\n",
    "\n",
    "    #indices for linear interpolation\n",
    "    b_1 = b.to(torch.int32)\n",
    "    y_1 = torch.floor(y_t).to(torch.int32)\n",
    "    y_2 = y_1 + 1\n",
    "    x_1 = torch.floor(x_t).to(torch.int32)\n",
    "    x_2 = x_1 + 1\n",
    "    v_1 = v_r.to(torch.int32)\n",
    "    u_1 = u_r.to(torch.int32)\n",
    "\n",
    "    y_1 = torch.clamp(y_1, 0, y_sz-1)\n",
    "    y_2 = torch.clamp(y_2, 0, y_sz-1)\n",
    "    x_1 = torch.clamp(x_1, 0, x_sz-1)\n",
    "    x_2 = torch.clamp(x_2, 0, x_sz-1)\n",
    "\n",
    "    #assemble interpolation indices\n",
    "    interp_pts_1 = torch.cat([b_1.unsqueeze(5), y_1.unsqueeze(5), x_1.unsqueeze(5), v_1.unsqueeze(5), u_1.unsqueeze(5)],-1)\n",
    "    interp_pts_2 = torch.cat([b_1.unsqueeze(5), y_2.unsqueeze(5), x_1.unsqueeze(5), v_1.unsqueeze(5), u_1.unsqueeze(5)], -1)\n",
    "    interp_pts_3 = torch.cat([b_1.unsqueeze(5), y_1.unsqueeze(5), x_2.unsqueeze(5), v_1.unsqueeze(5), u_1.unsqueeze(5)], -1)\n",
    "    interp_pts_4 = torch.cat([b_1.unsqueeze(5), y_2.unsqueeze(5), x_2.unsqueeze(5), v_1.unsqueeze(5), u_1.unsqueeze(5)], -1)\n",
    "\n",
    "    #gather light fields to be interpolated\n",
    "    \n",
    "    lf_1 = gather_nd_pt(central, interp_pts_1.to(torch.long))\n",
    "    lf_2 = gather_nd_pt(central, interp_pts_2.to(torch.long))\n",
    "    lf_3 = gather_nd_pt(central, interp_pts_3.to(torch.long))\n",
    "    lf_4 = gather_nd_pt(central, interp_pts_4.to(torch.long))        \n",
    "\n",
    "    #calculate interpolation weights        \n",
    "    y_1_f = y_1.to(torch.float)\n",
    "    x_1_f = x_1.to(torch.float)\n",
    "    d_y_1 = 1.0 - (y_t - y_1_f)\n",
    "    d_y_2 = 1.0 - d_y_1\n",
    "    d_x_1 = 1.0 - (x_t - x_1_f)\n",
    "    d_x_2 = 1.0 - d_x_1\n",
    "\n",
    "    w1 = d_y_1 * d_x_1\n",
    "    w2 = d_y_2 * d_x_1\n",
    "    w3 = d_y_1 * d_x_2\n",
    "    w4 = d_y_2 * d_x_2\n",
    "\n",
    "    lf = w1*lf_1 + w2*lf_2 + w3*lf_3 + w4*lf_4\n",
    "\n",
    "    return lf\n",
    "\n",
    "\n",
    "def gather_nd_pt(params,indices):\n",
    "    # my pytorch version of gather_nd in tensorflow for following specific inputs\n",
    "    # params:(d1,d2,d3,d4,d5)\n",
    "    # indices:(D1,D2,D3,D4,D5,5) \n",
    "    # follow https://discuss.pytorch.org/t/how-to-use-tf-gather-nd-in-pytorch/28271/3\n",
    "    # checkout numpy advanced indexing for better understanding \n",
    "    # think about generalization？\n",
    "    # checkout https://github.com/ashawkey/hawtorch/blob/6694b8cbf1adcad801e45653781c3f01ea13a37a/hawtorch/nn/functional.py\n",
    "    return params[indices[...,0],indices[...,1],indices[...,2],indices[...,3],indices[...,4]]\n"
   ]
  },
  {
   "cell_type": "code",
   "execution_count": null,
   "metadata": {},
   "outputs": [],
   "source": [
    "def transform_ray_depths_pt(ray_depths, u_step, v_step, lfsize):\n",
    "    \"\"\"\n",
    "    resample ray depths for depth consistency regularization\n",
    "    Tested against original tensorflow code\n",
    "    Input： \n",
    "        ray_depths： B,H,W,v,u\n",
    "    Output：\n",
    "        lf（transformed ray depths)： B,H,W,v,u\n",
    "    \"\"\"\n",
    "    b_sz = ray_depths.shape[0]\n",
    "    y_sz = ray_depths.shape[1]\n",
    "    x_sz = ray_depths.shape[2]\n",
    "    v_sz = lfsize[2]\n",
    "    u_sz = lfsize[3]\n",
    "\n",
    "    #create and reparameterize light field grid\n",
    "    b_vals = torch.from_numpy(np.arange(b_sz).astype(np.float32))\n",
    "    v_vals = torch.from_numpy(np.arange(v_sz).astype(np.float32) - float(v_sz)/2.0)\n",
    "    u_vals = torch.from_numpy(np.arange(u_sz).astype(np.float32) - float(u_sz)/2.0)\n",
    "    y_vals = torch.from_numpy(np.arange(y_sz).astype(np.float32))\n",
    "    x_vals = torch.from_numpy(np.arange(x_sz).astype(np.float32))  \n",
    "\n",
    "    b, y, x, v, u = torch.meshgrid(b_vals, y_vals, x_vals, v_vals, u_vals)\n",
    "\n",
    "    #warp coordinates by ray depths\n",
    "    \n",
    "    y_t = y + v_step * ray_depths\n",
    "    x_t = x + u_step * ray_depths\n",
    "    v_t = v - v_step + float(v_sz)/2.0\n",
    "    u_t = u - u_step + float(u_sz)/2.0\n",
    "\n",
    "    #v_t = v - v_step + tf.to_float(v_sz)/2.0\n",
    "    #u_t = u - u_step + tf.to_float(u_sz)/2.0\n",
    "\n",
    "    #indices for linear interpolation\n",
    "    b_1 = b.to(torch.int32)\n",
    "    y_1 = torch.floor(y_t).to(torch.int32)\n",
    "    y_2 = y_1 + 1\n",
    "    x_1 = torch.floor(x_t).to(torch.int32)\n",
    "    x_2 = x_1 + 1\n",
    "    v_1 = v_t.to(torch.int32)\n",
    "    u_1 = u_t.to(torch.int32)\n",
    "    \n",
    "    y_1 = torch.clamp(y_1, 0, y_sz-1)\n",
    "    y_2 = torch.clamp(y_2, 0, y_sz-1)\n",
    "    x_1 = torch.clamp(x_1, 0, x_sz-1)\n",
    "    x_2 = torch.clamp(x_2, 0, x_sz-1)\n",
    "    v_1 = torch.clamp(v_1, 0, v_sz-1)\n",
    "    u_1 = torch.clamp(u_1, 0, u_sz-1)\n",
    "\n",
    "\n",
    "    #assemble interpolation indices\n",
    "    \n",
    "    interp_pts_1 = torch.cat([b_1.unsqueeze(5), y_1.unsqueeze(5), x_1.unsqueeze(5), v_1.unsqueeze(5), u_1.unsqueeze(5)],-1)\n",
    "    interp_pts_2 = torch.cat([b_1.unsqueeze(5), y_2.unsqueeze(5), x_1.unsqueeze(5), v_1.unsqueeze(5), u_1.unsqueeze(5)], -1)\n",
    "    interp_pts_3 = torch.cat([b_1.unsqueeze(5), y_1.unsqueeze(5), x_2.unsqueeze(5), v_1.unsqueeze(5), u_1.unsqueeze(5)], -1)\n",
    "    interp_pts_4 = torch.cat([b_1.unsqueeze(5), y_2.unsqueeze(5), x_2.unsqueeze(5), v_1.unsqueeze(5), u_1.unsqueeze(5)], -1)\n",
    "\n",
    "\n",
    "    #gather light fields to be interpolated\n",
    "    \n",
    "    lf_1 = gather_nd_pt(ray_depths, interp_pts_1.to(torch.long))\n",
    "    lf_2 = gather_nd_pt(ray_depths, interp_pts_2.to(torch.long))\n",
    "    lf_3 = gather_nd_pt(ray_depths, interp_pts_3.to(torch.long))\n",
    "    lf_4 = gather_nd_pt(ray_depths, interp_pts_4.to(torch.long))   \n",
    "\n",
    "    #calculate interpolation weights\n",
    "    \n",
    "    y_1_f = y_1.to(torch.float)\n",
    "    x_1_f = x_1.to(torch.float)\n",
    "    d_y_1 = 1.0 - (y_t - y_1_f)\n",
    "    d_y_2 = 1.0 - d_y_1\n",
    "    d_x_1 = 1.0 - (x_t - x_1_f)\n",
    "    d_x_2 = 1.0 - d_x_1\n",
    "\n",
    "\n",
    "    w1 = d_y_1 * d_x_1\n",
    "    w2 = d_y_2 * d_x_1\n",
    "    w3 = d_y_1 * d_x_2\n",
    "    w4 = d_y_2 * d_x_2\n",
    "\n",
    "    lf = w1*lf_1 + w2*lf_2 + w3*lf_3 + w4*lf_4\n",
    "    return lf"
   ]
  },
  {
   "cell_type": "code",
   "execution_count": null,
   "metadata": {},
   "outputs": [],
   "source": [
    "#loss to encourage consistency of ray depths corresponding to same scene point\n",
    "\n",
    "def depth_consistency_loss_pt(x, lfsize):\n",
    "    \"\"\"\n",
    "    x: depth_fields of shape:B,H,W,v,u\n",
    "    call signiture: depth_consistency_loss(ray_depths, lfsize)\n",
    "    Tested against original tensorflow code\n",
    "    \"\"\"\n",
    "    x_u = transform_ray_depths_pt(x, 1.0, 0.0, lfsize)\n",
    "    import pdb\n",
    "    pdb.set_trace()\n",
    "    x_v = transform_ray_depths_pt(x, 0.0, 1.0, lfsize)\n",
    "    x_uv = transform_ray_depths_pt(x, 1.0, 1.0, lfsize)\n",
    "    d1 = (x[:,:,:,1:,1:]-x_u[:,:,:,1:,1:])\n",
    "    d2 = (x[:,:,:,1:,1:]-x_v[:,:,:,1:,1:])\n",
    "    d3 = (x[:,:,:,1:,1:]-x_uv[:,:,:,1:,1:])\n",
    "    l1 = (d1.abs()+d2.abs()+d3.abs()).mean()\n",
    "    return l1"
   ]
  },
  {
   "cell_type": "code",
   "execution_count": null,
   "metadata": {},
   "outputs": [],
   "source": [
    "#spatial TV loss (l1 of spatial derivatives)\n",
    "#Tested against original tensorflow codes.\n",
    "def image_derivs_pt(x, nc):\n",
    "    \"\"\"\n",
    "    \"\"\"\n",
    "    dy_filter = torch.unsqueeze(torch.unsqueeze(torch.tensor([[1.0, 2.0, 1.0], [0.0, 0.0, 0.0], [-1.0, -2.0, -1.0]],dtype = x.dtype, device = x.device),0),0).repeat(nc,1,1,1)\n",
    "    dx_filter = torch.unsqueeze(torch.unsqueeze(torch.tensor([[1.0, 0.0, -1.0], [2.0, 0.0, -2.0], [1.0, 0.0, -1.0]],dtype = x.dtype, device = x.device),0),0).repeat(nc,1,1,1)\n",
    "    dy = F.conv2d(x, dy_filter, groups=nc)\n",
    "    dx = F.conv2d(x, dx_filter, groups=nc)\n",
    "    return dy, dx\n",
    "\n",
    "def tv_loss_pt(x):\n",
    "    b_sz = x.shape[0]\n",
    "    y_sz = x.shape[1]\n",
    "    x_sz = x.shape[2]\n",
    "    u_sz = lfsize[2]\n",
    "    v_sz = lfsize[3]\n",
    "    \n",
    "    temp = torch.reshape(x, [b_sz, y_sz, x_sz, u_sz*v_sz])\n",
    "    temp = temp.permute([0,3,1,2])\n",
    "    dy, dx = image_derivs_pt(temp, u_sz*v_sz)\n",
    "    l1 = (dy.abs() + dx.abs()).mean()\n",
    "    return l1\n",
    "\n",
    "class cnn_layer(nn.Module):\n",
    "    '''((possibly dilated)conv => BN => LeakyReLU), following learning Local_light field synthesis paper'''\n",
    "    def __init__(self, in_ch, out_ch,filter_size = 3, dialation_rate = 1):\n",
    "        super(cnn_layer, self).__init__()\n",
    "        self.conv = nn.Sequential(\n",
    "            nn.ReflectionPad2d(dialation_rate*(filter_size-1)//2),\n",
    "            nn.Conv2d(in_ch, out_ch, filter_size, padding=0,dilation = dialation_rate),\n",
    "            nn.BatchNorm2d(out_ch),\n",
    "            nn.LeakyReLU(inplace=True)\n",
    "        )\n",
    "\n",
    "    def forward(self, x):\n",
    "        x = self.conv(x)\n",
    "        return x"
   ]
  },
  {
   "cell_type": "code",
   "execution_count": null,
   "metadata": {},
   "outputs": [],
   "source": [
    "lfsize = [372, 540, 8, 8] \n",
    "feed = np.random.rand(2,372,540,8,8)"
   ]
  },
  {
   "cell_type": "code",
   "execution_count": null,
   "metadata": {},
   "outputs": [],
   "source": [
    "depth_consistency_loss_pt(torch.from_numpy(feed).to(torch.float32),lfsize).numpy()"
   ]
  },
  {
   "cell_type": "code",
   "execution_count": null,
   "metadata": {},
   "outputs": [],
   "source": [
    "nx, ny = (3, 2)\n",
    "x = np.linspace(0, 1, nx)\n",
    "y = np.linspace(0, 1, ny)\n",
    "xv, yv = np.meshgrid(x, y,indexing='ij')"
   ]
  },
  {
   "cell_type": "code",
   "execution_count": null,
   "metadata": {},
   "outputs": [],
   "source": [
    "xv"
   ]
  },
  {
   "cell_type": "code",
   "execution_count": null,
   "metadata": {},
   "outputs": [],
   "source": [
    "yv"
   ]
  },
  {
   "cell_type": "code",
   "execution_count": null,
   "metadata": {},
   "outputs": [],
   "source": [
    "H, W = (3, 2)\n",
    "h = np.linspace(0, 1, nx)\n",
    "w = np.linspace(0, 1, ny)\n",
    "HH, WW = np.meshgrid(h, w,indexing='ij')"
   ]
  },
  {
   "cell_type": "code",
   "execution_count": null,
   "metadata": {},
   "outputs": [],
   "source": [
    "HH"
   ]
  },
  {
   "cell_type": "code",
   "execution_count": null,
   "metadata": {},
   "outputs": [],
   "source": [
    "WW"
   ]
  },
  {
   "cell_type": "code",
   "execution_count": null,
   "metadata": {},
   "outputs": [],
   "source": [
    "X, Y = np.meshgrid(range(10),range(5),indexing = 'xy')"
   ]
  },
  {
   "cell_type": "code",
   "execution_count": null,
   "metadata": {},
   "outputs": [],
   "source": [
    "\n",
    "\n",
    "\n",
    "# Some tensor we want to print the value of\n",
    "a = tf.constant([1.0, 3.0])\n",
    "\n",
    "# Add print operation\n",
    "print_op = tf.print(a)\n",
    "with tf.control_dependencies([print_op]):\n",
    "    out = tf.add(a, a)\n",
    "\n",
    "# Add more elements of the graph using a\n",
    "out = tf.add(out,2)"
   ]
  },
  {
   "cell_type": "code",
   "execution_count": null,
   "metadata": {},
   "outputs": [],
   "source": [
    "out.eval()"
   ]
  },
  {
   "cell_type": "code",
   "execution_count": null,
   "metadata": {},
   "outputs": [],
   "source": [
    "sess = tf.Session()\n",
    "with sess.as_default():\n",
    "    tensor = tf.range(10)\n",
    "    print_op = tf.print(tensor)\n",
    "    with tf.control_dependencies([print_op]):\n",
    "        out = tf.add(tensor, tensor)\n",
    "    sess.run(out)"
   ]
  },
  {
   "cell_type": "code",
   "execution_count": null,
   "metadata": {},
   "outputs": [],
   "source": [
    "\n",
    "sess = tf.InteractiveSession()\n",
    "\n",
    "# Some tensor we want to print the value of\n",
    "a = tf.constant([1.0, 3.0])\n",
    "\n",
    "# Add print operation\n",
    "a = tf.Print(a, [a], message=\"This is a: \")\n",
    "\n",
    "# Add more elements of the graph using a\n",
    "b = tf.add(a, a)"
   ]
  },
  {
   "cell_type": "code",
   "execution_count": null,
   "metadata": {},
   "outputs": [],
   "source": [
    "b.eval()"
   ]
  },
  {
   "cell_type": "code",
   "execution_count": null,
   "metadata": {},
   "outputs": [],
   "source": [
    "a=tf.expand_dims(tf.expand_dims([[1.0, 2.0, 1.0], [0.0, 0.0, 0.0], [-1.0, -2.0, -1.0]], 2), 3)\n",
    "a.eval().shape"
   ]
  },
  {
   "cell_type": "code",
   "execution_count": null,
   "metadata": {},
   "outputs": [],
   "source": [
    "np.array([[1.0, 2.0, 1.0], [0.0, 0.0, 0.0], [-1.0, -2.0, -1.0]])"
   ]
  },
  {
   "cell_type": "code",
   "execution_count": null,
   "metadata": {},
   "outputs": [],
   "source": [
    "b=tf.tile(tf.expand_dims(tf.expand_dims([[1.0, 2.0, 1.0], [0.0, 0.0, 0.0], [-1.0, -2.0, -1.0]], 2), 3), [1, 1, 8, 1])\n",
    "b.eval().shape"
   ]
  },
  {
   "cell_type": "code",
   "execution_count": null,
   "metadata": {},
   "outputs": [],
   "source": [
    "torch.tensor(0).device"
   ]
  },
  {
   "cell_type": "code",
   "execution_count": 9,
   "metadata": {},
   "outputs": [
    {
     "data": {
      "text/plain": [
       "torch.int64"
      ]
     },
     "execution_count": 9,
     "metadata": {},
     "output_type": "execute_result"
    }
   ],
   "source": [
    "torch.tensor(5,dtype = torch.long).dtype"
   ]
  },
  {
   "cell_type": "code",
   "execution_count": null,
   "metadata": {},
   "outputs": [],
   "source": []
  }
 ],
 "metadata": {
  "kernelspec": {
   "display_name": "Python 3",
   "language": "python",
   "name": "python3"
  },
  "language_info": {
   "codemirror_mode": {
    "name": "ipython",
    "version": 3
   },
   "file_extension": ".py",
   "mimetype": "text/x-python",
   "name": "python",
   "nbconvert_exporter": "python",
   "pygments_lexer": "ipython3",
   "version": "3.6.6"
  }
 },
 "nbformat": 4,
 "nbformat_minor": 2
}
